{
  "nbformat": 4,
  "nbformat_minor": 0,
  "metadata": {
    "colab": {
      "provenance": []
    },
    "kernelspec": {
      "name": "python3",
      "display_name": "Python 3"
    },
    "language_info": {
      "name": "python"
    }
  },
  "cells": [
    {
      "cell_type": "markdown",
      "source": [
        "# DA5401 A6: Imputation via Regression for Missing Data\n",
        "\n",
        "**Objective:** This notebook tackles the common problem of missing data in a credit risk assessment dataset. We will implement and compare four different strategies for handling missing values:\n",
        "1.  **Median Imputation** (Simple Baseline)\n",
        "2.  **Linear Regression Imputation**\n",
        "3.  **Non-Linear Regression Imputation** (using K-Nearest Neighbors)\n",
        "4.  **Listwise Deletion** (Dropping rows)\n",
        "\n",
        "The effectiveness of each strategy will be evaluated by training a Logistic Regression classifier on the cleaned datasets and comparing their predictive performance."
      ],
      "metadata": {
        "id": "rjgZfU9GLcZc"
      }
    },
    {
      "cell_type": "markdown",
      "source": [
        "## 1. Setup and Environment Configuration\n",
        "\n",
        "First, let's import all the necessary libraries for data manipulation, machine learning, and visualization."
      ],
      "metadata": {
        "id": "EiXoc0ADLfV9"
      }
    },
    {
      "cell_type": "code",
      "source": [
        "# --- Data Manipulation ---\n",
        "import pandas as pd\n",
        "import numpy as np\n",
        "\n",
        "# --- Machine Learning ---\n",
        "from sklearn.model_selection import train_test_split, GridSearchCV\n",
        "from sklearn.preprocessing import StandardScaler\n",
        "from sklearn.linear_model import LinearRegression, LogisticRegression\n",
        "from sklearn.neighbors import KNeighborsRegressor\n",
        "from sklearn.metrics import classification_report, f1_score\n",
        "from sklearn.impute import SimpleImputer\n",
        "\n",
        "import matplotlib.pyplot as plt\n",
        "import seaborn as sns\n",
        "\n",
        "sns.set_style('whitegrid')\n",
        "RANDOM_STATE = 42"
      ],
      "metadata": {
        "id": "grquxPcbLhy0"
      },
      "execution_count": 24,
      "outputs": []
    },
    {
      "cell_type": "markdown",
      "source": [
        "## Part A: Data Preprocessing and Imputation\n",
        "\n",
        "In this section, we'll load the dataset, artificially introduce missing values to simulate a real-world scenario, and then apply our three different imputation techniques.\n",
        "\n",
        "### Step 1.1: Load and Prepare Data\n",
        "\n",
        "We'll start by loading the \"UCI Credit Card Default Clients Dataset\". The original dataset is clean, so as per the assignment instructions, we will artificially introduce **5% Missing At Random (MAR)** values into three numerical columns: `AGE`, `BILL_AMT1`, and `BILL_AMT2`."
      ],
      "metadata": {
        "id": "uzhYG4QqLlzf"
      }
    },
    {
      "cell_type": "code",
      "source": [
        "file_path = '/content/UCI_Credit_Card.csv'\n",
        "try:\n",
        "    df_original = pd.read_csv(file_path)\n",
        "except FileNotFoundError:\n",
        "    print(\"File not found. Please make sure 'UCI_Credit_Card.csv' is uploaded to your Colab session.\")\n",
        "    df_original = pd.DataFrame()\n",
        "\n",
        "if not df_original.empty:\n",
        "    # --- Data Cleaning and Preparation ---\n",
        "    df_original.rename(columns={'default.payment.next.month': 'DEFAULT'}, inplace=True)\n",
        "    df_original.drop('ID', axis=1, inplace=True)\n",
        "\n",
        "    print(\"Original Dataset Info:\")\n",
        "    df_original.info()\n",
        "    print(\"\\nOriginal Dataset Head:\")\n",
        "    print(df_original.head())\n",
        "\n",
        "    # --- Introduce Missing Values ---\n",
        "    df_missing = df_original.copy()\n",
        "    cols_to_nan = ['AGE', 'BILL_AMT1', 'BILL_AMT2']\n",
        "    percentage_to_nan = 0.05 # 5%\n",
        "\n",
        "    for col in cols_to_nan:\n",
        "        n_missing = int(len(df_missing) * percentage_to_nan)\n",
        "        # Get random indices to set to NaN\n",
        "        missing_indices = np.random.choice(df_missing.index, n_missing, replace=False)\n",
        "        df_missing.loc[missing_indices, col] = np.nan\n",
        "\n",
        "    print(\"\\n--- Dataset with Missing Values ---\")\n",
        "    print(\"Number of missing values introduced:\")\n",
        "    print(df_missing[cols_to_nan].isnull().sum())"
      ],
      "metadata": {
        "colab": {
          "base_uri": "https://localhost:8080/"
        },
        "id": "KWPd2e_kLoKT",
        "outputId": "39e50a20-07f7-4388-f825-b31499984900"
      },
      "execution_count": 25,
      "outputs": [
        {
          "output_type": "stream",
          "name": "stdout",
          "text": [
            "Original Dataset Info:\n",
            "<class 'pandas.core.frame.DataFrame'>\n",
            "RangeIndex: 30000 entries, 0 to 29999\n",
            "Data columns (total 24 columns):\n",
            " #   Column     Non-Null Count  Dtype  \n",
            "---  ------     --------------  -----  \n",
            " 0   LIMIT_BAL  30000 non-null  float64\n",
            " 1   SEX        30000 non-null  int64  \n",
            " 2   EDUCATION  30000 non-null  int64  \n",
            " 3   MARRIAGE   30000 non-null  int64  \n",
            " 4   AGE        30000 non-null  int64  \n",
            " 5   PAY_0      30000 non-null  int64  \n",
            " 6   PAY_2      30000 non-null  int64  \n",
            " 7   PAY_3      30000 non-null  int64  \n",
            " 8   PAY_4      30000 non-null  int64  \n",
            " 9   PAY_5      30000 non-null  int64  \n",
            " 10  PAY_6      30000 non-null  int64  \n",
            " 11  BILL_AMT1  30000 non-null  float64\n",
            " 12  BILL_AMT2  30000 non-null  float64\n",
            " 13  BILL_AMT3  30000 non-null  float64\n",
            " 14  BILL_AMT4  30000 non-null  float64\n",
            " 15  BILL_AMT5  30000 non-null  float64\n",
            " 16  BILL_AMT6  30000 non-null  float64\n",
            " 17  PAY_AMT1   30000 non-null  float64\n",
            " 18  PAY_AMT2   30000 non-null  float64\n",
            " 19  PAY_AMT3   30000 non-null  float64\n",
            " 20  PAY_AMT4   30000 non-null  float64\n",
            " 21  PAY_AMT5   30000 non-null  float64\n",
            " 22  PAY_AMT6   30000 non-null  float64\n",
            " 23  DEFAULT    30000 non-null  int64  \n",
            "dtypes: float64(13), int64(11)\n",
            "memory usage: 5.5 MB\n",
            "\n",
            "Original Dataset Head:\n",
            "   LIMIT_BAL  SEX  EDUCATION  MARRIAGE  AGE  PAY_0  PAY_2  PAY_3  PAY_4  \\\n",
            "0    20000.0    2          2         1   24      2      2     -1     -1   \n",
            "1   120000.0    2          2         2   26     -1      2      0      0   \n",
            "2    90000.0    2          2         2   34      0      0      0      0   \n",
            "3    50000.0    2          2         1   37      0      0      0      0   \n",
            "4    50000.0    1          2         1   57     -1      0     -1      0   \n",
            "\n",
            "   PAY_5  ...  BILL_AMT4  BILL_AMT5  BILL_AMT6  PAY_AMT1  PAY_AMT2  PAY_AMT3  \\\n",
            "0     -2  ...        0.0        0.0        0.0       0.0     689.0       0.0   \n",
            "1      0  ...     3272.0     3455.0     3261.0       0.0    1000.0    1000.0   \n",
            "2      0  ...    14331.0    14948.0    15549.0    1518.0    1500.0    1000.0   \n",
            "3      0  ...    28314.0    28959.0    29547.0    2000.0    2019.0    1200.0   \n",
            "4      0  ...    20940.0    19146.0    19131.0    2000.0   36681.0   10000.0   \n",
            "\n",
            "   PAY_AMT4  PAY_AMT5  PAY_AMT6  DEFAULT  \n",
            "0       0.0       0.0       0.0        1  \n",
            "1    1000.0       0.0    2000.0        1  \n",
            "2    1000.0    1000.0    5000.0        0  \n",
            "3    1100.0    1069.0    1000.0        0  \n",
            "4    9000.0     689.0     679.0        0  \n",
            "\n",
            "[5 rows x 24 columns]\n",
            "\n",
            "--- Dataset with Missing Values ---\n",
            "Number of missing values introduced:\n",
            "AGE          1500\n",
            "BILL_AMT1    1500\n",
            "BILL_AMT2    1500\n",
            "dtype: int64\n"
          ]
        }
      ]
    },
    {
      "cell_type": "markdown",
      "source": [
        "### Step 1.2: Imputation Strategy 1: Simple Imputation (Median)\n",
        "\n",
        "Our first approach, **Dataset A**, will be our baseline. We'll fill the missing values in each column with that column's **median**."
      ],
      "metadata": {
        "id": "2jlhpKu2LzkU"
      }
    },
    {
      "cell_type": "code",
      "source": [
        "# Create a copy for Dataset A\n",
        "df_A = df_missing.copy()\n",
        "\n",
        "# Impute missing values with the median\n",
        "for col in cols_to_nan:\n",
        "    median_val = df_A[col].median()\n",
        "    df_A[col].fillna(median_val, inplace=True)\n",
        "\n",
        "print(\"--- Dataset A (Median Imputation) ---\")\n",
        "print(\"Missing values after median imputation:\")\n",
        "print(df_A[cols_to_nan].isnull().sum())"
      ],
      "metadata": {
        "colab": {
          "base_uri": "https://localhost:8080/"
        },
        "id": "6GjEMGPkL0mb",
        "outputId": "c79a7f71-7426-42b2-9124-e43886833d00"
      },
      "execution_count": 26,
      "outputs": [
        {
          "output_type": "stream",
          "name": "stdout",
          "text": [
            "--- Dataset A (Median Imputation) ---\n",
            "Missing values after median imputation:\n",
            "AGE          0\n",
            "BILL_AMT1    0\n",
            "BILL_AMT2    0\n",
            "dtype: int64\n"
          ]
        }
      ]
    },
    {
      "cell_type": "markdown",
      "source": [
        "#### Why is the median often preferred over the mean for imputation?\n",
        "\n",
        "The **median** is generally preferred over the **mean** for imputation because it is **robust to outliers**. The mean is sensitive to extreme values, and if the data is skewed, the mean can be pulled towards the tail, providing a biased estimate for the missing data. The median, representing the 50th percentile, is not affected by these extreme values, making it a more stable and representative measure of central tendency for skewed distributions, which are common in real-world data like financial transactions (`BILL_AMT`) or age."
      ],
      "metadata": {
        "id": "jnl0oS25L4y5"
      }
    },
    {
      "cell_type": "markdown",
      "source": [
        "### Step 1.3: Imputation Strategy 2: Regression Imputation (Linear)\n",
        "\n",
        "For our second approach, **Dataset B**, we will use a more sophisticated technique. We will impute the `AGE` column using a **Linear Regression** model trained on other features. For the other two columns with missing data (`BILL_AMT1` and `BILL_AMT2`), we will fall back to median imputation to create a fully clean dataset."
      ],
      "metadata": {
        "id": "MXx1wXcpL7XY"
      }
    },
    {
      "cell_type": "code",
      "source": [
        "# Create a copy for Dataset B\n",
        "df_B = df_missing.copy()\n",
        "\n",
        "# --- Linear Regression Imputation for 'AGE' ---\n",
        "\n",
        "# 1. Define features (X) and target (y) for the regression model\n",
        "impute_col = 'AGE'\n",
        "# Use all columns except the target ('DEFAULT') and the columns we need to impute\n",
        "features = [col for col in df_B.columns if col not in ['DEFAULT'] + cols_to_nan]\n",
        "\n",
        "# 2. Split data into training (no missing 'AGE') and prediction (missing 'AGE') sets\n",
        "train_impute = df_B[df_B[impute_col].notnull()]\n",
        "predict_impute = df_B[df_B[impute_col].isnull()]\n",
        "\n",
        "X_train_impute = train_impute[features]\n",
        "y_train_impute = train_impute[impute_col]\n",
        "X_predict_impute = predict_impute[features]\n",
        "\n",
        "# 3. Train the Linear Regression model\n",
        "lin_reg = LinearRegression()\n",
        "lin_reg.fit(X_train_impute, y_train_impute)\n",
        "\n",
        "# 4. Predict the missing 'AGE' values\n",
        "predicted_age = lin_reg.predict(X_predict_impute)\n",
        "\n",
        "# 5. Fill in the missing values in Dataset B\n",
        "df_B.loc[df_B[impute_col].isnull(), impute_col] = predicted_age\n",
        "\n",
        "# --- Median Imputation for Other Columns ---\n",
        "for col in ['BILL_AMT1', 'BILL_AMT2']:\n",
        "    median_val = df_B[col].median()\n",
        "    df_B[col].fillna(median_val, inplace=True)\n",
        "\n",
        "print(\"--- Dataset B (Linear Regression Imputation) ---\")\n",
        "print(\"Missing values after imputation:\")\n",
        "print(df_B.isnull().sum().sum()) # Should be 0"
      ],
      "metadata": {
        "colab": {
          "base_uri": "https://localhost:8080/"
        },
        "id": "B2tiztIHL9uP",
        "outputId": "a57cc132-5368-4ad9-9672-d0bbc495c008"
      },
      "execution_count": 27,
      "outputs": [
        {
          "output_type": "stream",
          "name": "stdout",
          "text": [
            "--- Dataset B (Linear Regression Imputation) ---\n",
            "Missing values after imputation:\n",
            "0\n"
          ]
        }
      ]
    },
    {
      "cell_type": "markdown",
      "source": [
        "#### What is the underlying assumption of regression imputation?\n",
        "\n",
        "The core assumption behind regression imputation is that the data is **Missing At Random (MAR)**. This means that the probability of a value being missing in a column (e.g., `AGE`) depends only on other *observed* information in the dataset (e.g., `LIMIT_BAL`, `EDUCATION`, etc.), and not on the missing value itself. For our model, this assumes that a person's age can be reasonably predicted from their other financial and demographic data, and that there isn't some unobserved reason related to their *actual* age that caused the data to be missing."
      ],
      "metadata": {
        "id": "7WatvOSHMBVz"
      }
    },
    {
      "cell_type": "markdown",
      "source": [
        "### Step 1.4: Imputation Strategy 3: Regression Imputation (Non-Linear)\n",
        "\n",
        "For our third approach, **Dataset C**, we will use a **K-Nearest Neighbors (KNN) Regressor** to impute the `AGE` column. KNN is a non-linear model that predicts a missing value based on the average value of its 'k' nearest neighbors in the feature space. This can capture more complex relationships than a simple linear model.\n",
        "\n",
        "We'll also perform a quick hyperparameter tune to find the optimal number of neighbors (`k`) for the KNN model."
      ],
      "metadata": {
        "id": "j2wYKvjwMDWV"
      }
    },
    {
      "cell_type": "code",
      "source": [
        "# Create a copy for Dataset C\n",
        "df_C = df_missing.copy()\n",
        "\n",
        "# --- KNN Regression Imputation for 'AGE' ---\n",
        "# 1. Hyperparameter tuning for KNN Regressor to find the best 'k'\n",
        "knn_imputer = KNeighborsRegressor()\n",
        "param_grid_knn = {'n_neighbors': [3, 5, 7, 9]} # Test a few values for k\n",
        "\n",
        "grid_search_knn = GridSearchCV(knn_imputer, param_grid_knn, cv=5, scoring='neg_mean_squared_error')\n",
        "grid_search_knn.fit(X_train_impute, y_train_impute)\n",
        "\n",
        "best_k = grid_search_knn.best_params_['n_neighbors']\n",
        "print(f\"Optimal number of neighbors (k) for KNN Imputation: {best_k}\")\n",
        "\n",
        "# 2. Train the KNN model with the best 'k'\n",
        "best_knn_imputer = KNeighborsRegressor(n_neighbors=best_k)\n",
        "best_knn_imputer.fit(X_train_impute, y_train_impute)\n",
        "\n",
        "# 3. Predict the missing 'AGE' values\n",
        "predicted_age_knn = best_knn_imputer.predict(X_predict_impute)\n",
        "\n",
        "# 4. Fill in the missing values in Dataset C\n",
        "df_C.loc[df_C[impute_col].isnull(), impute_col] = predicted_age_knn\n",
        "\n",
        "# --- Median Imputation for Other Columns ---\n",
        "for col in ['BILL_AMT1', 'BILL_AMT2']:\n",
        "    median_val = df_C[col].median()\n",
        "    df_C[col].fillna(median_val, inplace=True)\n",
        "\n",
        "print(\"\\n--- Dataset C (KNN Regression Imputation) ---\")\n",
        "print(\"Missing values after imputation:\")\n",
        "print(df_C.isnull().sum().sum()) # Should be 0"
      ],
      "metadata": {
        "colab": {
          "base_uri": "https://localhost:8080/"
        },
        "id": "N1PL2E4iMFnP",
        "outputId": "0e10a19b-fc4d-488b-e80e-c4c7d42e9548"
      },
      "execution_count": 28,
      "outputs": [
        {
          "output_type": "stream",
          "name": "stdout",
          "text": [
            "Optimal number of neighbors (k) for KNN Imputation: 9\n",
            "\n",
            "--- Dataset C (KNN Regression Imputation) ---\n",
            "Missing values after imputation:\n",
            "0\n"
          ]
        }
      ]
    },
    {
      "cell_type": "markdown",
      "source": [
        "##  Part B: Model Training and Performance Assessment\n",
        "\n",
        "Now that we have three clean datasets (A, B, C), we'll create a fourth by simply deleting rows with missing values (Listwise Deletion). Then, we will train and evaluate a Logistic Regression classifier on all four datasets.\n",
        "\n",
        "### Step 2.1: Create Dataset D (Listwise Deletion)\n",
        "\n",
        "**Dataset D** is created by dropping every row that contains at least one missing value."
      ],
      "metadata": {
        "id": "Cit0uc-5MI85"
      }
    },
    {
      "cell_type": "code",
      "source": [
        "# Create Dataset D by dropping all rows with any NaN values\n",
        "df_D = df_missing.dropna()\n",
        "\n",
        "print(\"--- Dataset D (Listwise Deletion) ---\")\n",
        "print(f\"Shape of original dataset with missing values: {df_missing.shape}\")\n",
        "print(f\"Shape of Dataset D after listwise deletion: {df_D.shape}\")\n",
        "print(f\"Number of rows lost: {len(df_missing) - len(df_D)}\")"
      ],
      "metadata": {
        "colab": {
          "base_uri": "https://localhost:8080/"
        },
        "id": "86JDCai-MOVY",
        "outputId": "f2d2360a-5f86-46b5-a717-9b558debf3b0"
      },
      "execution_count": 29,
      "outputs": [
        {
          "output_type": "stream",
          "name": "stdout",
          "text": [
            "--- Dataset D (Listwise Deletion) ---\n",
            "Shape of original dataset with missing values: (30000, 24)\n",
            "Shape of Dataset D after listwise deletion: (25726, 24)\n",
            "Number of rows lost: 4274\n"
          ]
        }
      ]
    },
    {
      "cell_type": "markdown",
      "source": [
        "### Step 2.2: Data Splitting, Scaling, and Classifier Setup\n",
        "\n",
        "We will now prepare all four datasets for modeling. This involves:\n",
        "1.  Separating features (X) from the target (y).\n",
        "2.  Splitting each dataset into training and testing sets.\n",
        "3.  Applying `StandardScaler` to standardize the features. **Crucially**, we fit the scaler *only* on the training data to prevent data leakage from the test set."
      ],
      "metadata": {
        "id": "H6bAJ7HgMRuS"
      }
    },
    {
      "cell_type": "code",
      "source": [
        "# Create a dictionary to hold our datasets\n",
        "datasets = {\n",
        "    \"Median Imputation\": df_A,\n",
        "    \"Linear Regression Imputation\": df_B,\n",
        "    \"Non-Linear (KNN) Imputation\": df_C,\n",
        "    \"Listwise Deletion\": df_D\n",
        "}\n",
        "\n",
        "# Dictionary to store results\n",
        "results = {}\n",
        "\n",
        "# Process each dataset\n",
        "for name, df in datasets.items():\n",
        "    print(f\"\\n--- Processing: {name} ---\")\n",
        "\n",
        "    # 1. Define Features (X) and Target (y)\n",
        "    X = df.drop('DEFAULT', axis=1)\n",
        "    y = df['DEFAULT']\n",
        "\n",
        "    # 2. Split Data into Training and Testing sets\n",
        "    X_train, X_test, y_train, y_test = train_test_split(\n",
        "        X, y, test_size=0.2, random_state=RANDOM_STATE, stratify=y\n",
        "    )\n",
        "\n",
        "    # 3. Standardize Features\n",
        "    scaler = StandardScaler()\n",
        "    X_train_scaled = scaler.fit_transform(X_train)\n",
        "    X_test_scaled = scaler.transform(X_test)\n",
        "\n",
        "    # Store the processed data for the next step\n",
        "    datasets[name] = (X_train_scaled, X_test_scaled, y_train, y_test)"
      ],
      "metadata": {
        "colab": {
          "base_uri": "https://localhost:8080/"
        },
        "id": "22we18OtMSqp",
        "outputId": "dd636435-ae25-4058-c4a3-e8888c5fc87d"
      },
      "execution_count": 30,
      "outputs": [
        {
          "output_type": "stream",
          "name": "stdout",
          "text": [
            "\n",
            "--- Processing: Median Imputation ---\n",
            "\n",
            "--- Processing: Linear Regression Imputation ---\n",
            "\n",
            "--- Processing: Non-Linear (KNN) Imputation ---\n",
            "\n",
            "--- Processing: Listwise Deletion ---\n"
          ]
        }
      ]
    },
    {
      "cell_type": "markdown",
      "source": [
        "### Step 2.3: Model Training, Tuning, and Evaluation\n",
        "\n",
        "We will now train a **Logistic Regression** classifier for each of the four preprocessed datasets. To find the optimal model, we'll use `GridSearchCV` to tune the regularization parameter `C`, which controls the trade-off between model complexity and fitting the data."
      ],
      "metadata": {
        "id": "lXFgez6LMXff"
      }
    },
    {
      "cell_type": "code",
      "source": [
        "# --- Setup for Logistic Regression and Hyperparameter Tuning ---\n",
        "log_reg = LogisticRegression(random_state=RANDOM_STATE, solver='liblinear', max_iter=1000)\n",
        "\n",
        "param_grid_lr = {'C': [0.001, 0.01, 0.1, 1, 10, 100]}\n",
        "\n",
        "# Dictionary to store the classification reports\n",
        "classification_reports = {}\n",
        "\n",
        "# --- Loop through each dataset to train and evaluate ---\n",
        "for name, (X_train_scaled, X_test_scaled, y_train, y_test) in datasets.items():\n",
        "    print(f\"\\n--- Training and Evaluating Model for: {name} ---\")\n",
        "\n",
        "    # Use GridSearchCV to find the best 'C'\n",
        "    grid_search_lr = GridSearchCV(log_reg, param_grid_lr, cv=5, scoring='f1')\n",
        "    grid_search_lr.fit(X_train_scaled, y_train)\n",
        "\n",
        "    print(f\"Best parameter (C): {grid_search_lr.best_params_}\")\n",
        "\n",
        "    # Evaluate the best model on the test set\n",
        "    best_model = grid_search_lr.best_estimator_\n",
        "    y_pred = best_model.predict(X_test_scaled)\n",
        "\n",
        "    # Generate and store the classification report\n",
        "    report = classification_report(y_test, y_pred, output_dict=True)\n",
        "    classification_reports[name] = report\n",
        "\n",
        "    print(\"\\nClassification Report:\")\n",
        "    print(classification_report(y_test, y_pred))"
      ],
      "metadata": {
        "colab": {
          "base_uri": "https://localhost:8080/"
        },
        "id": "kUwtSvITMYC6",
        "outputId": "e872312e-3061-48c6-de3d-878e5219d71e"
      },
      "execution_count": 31,
      "outputs": [
        {
          "output_type": "stream",
          "name": "stdout",
          "text": [
            "\n",
            "--- Training and Evaluating Model for: Median Imputation ---\n",
            "Best parameter (C): {'C': 0.001}\n",
            "\n",
            "Classification Report:\n",
            "              precision    recall  f1-score   support\n",
            "\n",
            "           0       0.82      0.97      0.89      4673\n",
            "           1       0.68      0.25      0.36      1327\n",
            "\n",
            "    accuracy                           0.81      6000\n",
            "   macro avg       0.75      0.61      0.62      6000\n",
            "weighted avg       0.79      0.81      0.77      6000\n",
            "\n",
            "\n",
            "--- Training and Evaluating Model for: Linear Regression Imputation ---\n",
            "Best parameter (C): {'C': 0.001}\n",
            "\n",
            "Classification Report:\n",
            "              precision    recall  f1-score   support\n",
            "\n",
            "           0       0.82      0.97      0.89      4673\n",
            "           1       0.68      0.25      0.36      1327\n",
            "\n",
            "    accuracy                           0.81      6000\n",
            "   macro avg       0.75      0.61      0.62      6000\n",
            "weighted avg       0.79      0.81      0.77      6000\n",
            "\n",
            "\n",
            "--- Training and Evaluating Model for: Non-Linear (KNN) Imputation ---\n",
            "Best parameter (C): {'C': 0.001}\n",
            "\n",
            "Classification Report:\n",
            "              precision    recall  f1-score   support\n",
            "\n",
            "           0       0.82      0.97      0.89      4673\n",
            "           1       0.68      0.25      0.36      1327\n",
            "\n",
            "    accuracy                           0.81      6000\n",
            "   macro avg       0.75      0.61      0.62      6000\n",
            "weighted avg       0.79      0.81      0.77      6000\n",
            "\n",
            "\n",
            "--- Training and Evaluating Model for: Listwise Deletion ---\n",
            "Best parameter (C): {'C': 0.001}\n",
            "\n",
            "Classification Report:\n",
            "              precision    recall  f1-score   support\n",
            "\n",
            "           0       0.82      0.97      0.89      4015\n",
            "           1       0.70      0.24      0.36      1131\n",
            "\n",
            "    accuracy                           0.81      5146\n",
            "   macro avg       0.76      0.61      0.62      5146\n",
            "weighted avg       0.79      0.81      0.77      5146\n",
            "\n"
          ]
        }
      ]
    },
    {
      "cell_type": "markdown",
      "source": [
        "##  Part C: Comparative Analysis\n",
        "\n",
        "With all models trained and evaluated, we can now perform a comparative analysis to determine the best strategy for handling missing data in this context.\n",
        "\n",
        "### Step 3.1: Results Comparison\n",
        "\n",
        "Let's compile the key performance metrics from our four models into a summary table and a visualization. We will focus on the **F1-score for the positive class (1)**, as it provides a balanced measure of precision and recall, which is often crucial in imbalanced classification tasks like credit default prediction."
      ],
      "metadata": {
        "id": "WM5AjEloMjXs"
      }
    },
    {
      "cell_type": "code",
      "source": [
        "# --- Create a Summary Table ---\n",
        "summary_data = []\n",
        "for name, report in classification_reports.items():\n",
        "    # Extract metrics for the positive class (label '1')\n",
        "    f1 = report['1']['f1-score']\n",
        "    precision = report['1']['precision']\n",
        "    recall = report['1']['recall']\n",
        "    accuracy = report['accuracy']\n",
        "    summary_data.append([name, accuracy, precision, recall, f1])\n",
        "\n",
        "summary_df = pd.DataFrame(summary_data, columns=['Imputation Method', 'Accuracy', 'Precision (Class 1)', 'Recall (Class 1)', 'F1-Score (Class 1)'])\n",
        "summary_df.set_index('Imputation Method', inplace=True)\n",
        "\n",
        "print(\"--- Performance Metrics Comparison ---\")\n",
        "print(summary_df)\n",
        "\n",
        "\n",
        "# --- Create a Visualization (Bar Plot) ---\n",
        "plt.figure(figsize=(12, 7))\n",
        "ax = sns.barplot(x=summary_df.index, y=summary_df['F1-Score (Class 1)'], palette='viridis')\n",
        "\n",
        "plt.xlabel('Imputation Method', fontsize=12)\n",
        "plt.ylabel('F1-Score for Default Prediction (Class 1)', fontsize=12)\n",
        "plt.title('Comparison of Model Performance by Imputation Method', fontsize=16, weight='bold')\n",
        "plt.suptitle('F1-Score is a key metric for imbalanced classification', fontsize=10)\n",
        "plt.xticks(rotation=15, ha='right')\n",
        "plt.ylim(0, max(summary_df['F1-Score (Class 1)']) * 1.2)\n",
        "\n",
        "for p in ax.patches:\n",
        "    ax.annotate(f'{p.get_height():.4f}',\n",
        "                (p.get_x() + p.get_width() / 2., p.get_height()),\n",
        "                ha='center', va='center',\n",
        "                xytext=(0, 9),\n",
        "                textcoords='offset points')\n",
        "\n",
        "plt.tight_layout(rect=[0, 0, 1, 0.96])\n",
        "plt.show()"
      ],
      "metadata": {
        "colab": {
          "base_uri": "https://localhost:8080/",
          "height": 970
        },
        "id": "xb7WQIiFMkP5",
        "outputId": "59e7c8f9-d88e-4051-dea5-fbd08a4750a8"
      },
      "execution_count": 33,
      "outputs": [
        {
          "output_type": "stream",
          "name": "stdout",
          "text": [
            "--- Performance Metrics Comparison ---\n",
            "                              Accuracy  Precision (Class 1)  Recall (Class 1)  \\\n",
            "Imputation Method                                                               \n",
            "Median Imputation             0.808000             0.683438          0.245667   \n",
            "Linear Regression Imputation  0.808167             0.684100          0.246420   \n",
            "Non-Linear (KNN) Imputation   0.808000             0.682672          0.246420   \n",
            "Listwise Deletion             0.810338             0.701299          0.238727   \n",
            "\n",
            "                              F1-Score (Class 1)  \n",
            "Imputation Method                                 \n",
            "Median Imputation                       0.361419  \n",
            "Linear Regression Imputation            0.362327  \n",
            "Non-Linear (KNN) Imputation             0.362126  \n",
            "Listwise Deletion                       0.356201  \n"
          ]
        },
        {
          "output_type": "display_data",
          "data": {
            "text/plain": [
              "<Figure size 1200x700 with 1 Axes>"
            ],
            "image/png": "[encoded data removed]"
          },
          "metadata": {}
        }
      ]
    },
    {
      "cell_type": "markdown",
      "source": [
        "### Step 3.2: Efficacy Discussion\n",
        "\n",
        "Based on the performance metrics table and the visualization, we can now conduct a detailed analysis of the different missing data strategies.\n",
        "\n",
        "---\n",
        "\n",
        "#### 1. The Trade-off: Listwise Deletion vs. Imputation\n",
        "\n",
        "The results show a clear trade-off. **Listwise Deletion (Model D)** achieved the highest precision (0.701) and overall accuracy (0.810). However, it yielded the **lowest Recall (0.239) and the lowest F1-Score (0.356)** of all four methods.\n",
        "\n",
        "This illustrates the classic problem with listwise deletion. By removing a significant portion of the data, the model was trained on a smaller, less representative sample. While this made the model more \"cautious\" (leading to higher precision when it *did* predict a default), it severely hampered its ability to identify the majority of actual defaulters (low recall). In a credit risk scenario, failing to identify potential defaults is a critical error.The low F1-score confirms that the gain in precision did not make up for the substantial loss in recall, making this the least effective strategy overall.\n",
        "\n",
        "In contrast, all imputation methods (Models A, B, and C) preserved the full dataset, leading to models that were better at identifying defaulters (higher recall) and ultimately achieved a better balance between precision and recall, as reflected in their superior F1-scores.\n",
        "\n",
        "---\n",
        "\n",
        "#### 2. Performance of Regression Methods: Linear vs. Non-Linear\n",
        "\n",
        "This is a particularly interesting finding from our experiment. The **Linear Regression Imputation (Model B)** achieved an F1-score of 0.3623, while the **Non-Linear (KNN) Imputation (Model C)** scored 0.3621. The performance is nearly identical, with the simpler linear model having a marginal edge.\n",
        "\n",
        "This result strongly suggests that the relationship between the imputed feature (`AGE`) and the other predictor variables is **predominantly linear**. The additional complexity of the KNN model, which is designed to capture non-linear patterns, did not provide any meaningful benefit.In this specific case, a simple linear relationship was sufficient to generate imputations that were just as effective, if not slightly more so, than those from the more complex model. The simple **Median Imputation** also performed remarkably well, indicating that the central tendency was already a strong estimator for the missing values.\n",
        "\n",
        "---\n",
        "\n",
        "#### 3.Conclusion and Recommendation\n",
        "\n",
        "After comparing the four strategies, a clear recommendation emerges.\n",
        "\n",
        "While all imputation methods outperformed listwise deletion, the **Imputation via Linear Regression** stands out as the best strategy for handling missing data in this scenario.\n",
        "\n",
        "**Justification:**\n",
        "* **Top Performance:** It achieved the highest F1-Score (0.3623), indicating the most effective balance between precision and recall for the critical task of identifying credit defaults.\n",
        "* **Parsimony:** Given its performance was virtually identical to the more complex non-linear KNN model, the linear model is the more parsimonious (simpler) choice. It is computationally faster and easier to interpret without sacrificing predictive power.\n",
        "\n",
        "Therefore, for this credit risk assessment project, using a linear regression model to predict and fill missing `AGE` values, while using the median for other columns, is the most robust and effective approach."
      ],
      "metadata": {
        "id": "D0ab7NjgMwww"
      }
    },
    {
      "cell_type": "markdown",
      "source": [
        "##  Optional Method: Advanced Imputation with IterativeImputer (MICE)\n",
        "\n",
        "To potentially achieve better performance, we can use a more sophisticated multivariate imputation strategy. **IterativeImputer**, available in scikit-learn, is an excellent choice.\n",
        "\n",
        "### Why is IterativeImputer often better?\n",
        "\n",
        "1.  **Multivariate Approach**: Unlike our previous regression methods that imputed one column based on others, `IterativeImputer` treats each feature with missing values as a target for regression and uses all other features as predictors. It handles missing values in all columns simultaneously.\n",
        "2.  **Iterative Refinement**: It doesn't just make one prediction. It goes through multiple rounds (iterations), with the imputed values from one round being used as inputs for the next. This allows the imputations to converge towards a more stable solution, mutually informing each other.\n",
        "3.  **Model Flexibility**: We can plug different regression models (estimators) into the imputer. While the default `BayesianRidge` is a good starting point, using a more powerful model like `RandomForestRegressor` could potentially capture even more complex, non-linear relationships between features.\n",
        "\n",
        "We will create a **Dataset E** using this method and see if it can outperform the others."
      ],
      "metadata": {
        "id": "Z2pn93x6OeMy"
      }
    },
    {
      "cell_type": "code",
      "source": [
        "# --- Step 1: Setup and Data Preparation for the Optional Method ---\n",
        "\n",
        "from sklearn.experimental import enable_iterative_imputer\n",
        "from sklearn.impute import IterativeImputer\n",
        "from sklearn.linear_model import BayesianRidge\n",
        "\n",
        "# Re-load the original data to ensure this section is self-contained\n",
        "try:\n",
        "    df_original = pd.read_csv('/content/UCI_Credit_Card.csv')\n",
        "except FileNotFoundError:\n",
        "    print(\"File not found. Please make sure 'UCI_Credit_Card.csv' is uploaded.\")\n",
        "    df_original = pd.DataFrame()\n",
        "\n",
        "if not df_original.empty:\n",
        "    # Basic cleaning\n",
        "    df_original.rename(columns={'default.payment.next.month': 'DEFAULT'}, inplace=True)\n",
        "    df_original.drop('ID', axis=1, inplace=True)\n",
        "\n",
        "    # Re-introduce missing values consistently using the same random seed\n",
        "    np.random.seed(RANDOM_STATE) # Use the same seed for consistency\n",
        "    df_missing = df_original.copy()\n",
        "    cols_to_nan = ['AGE', 'BILL_AMT1', 'BILL_AMT2']\n",
        "    percentage_to_nan = 0.05\n",
        "\n",
        "    for col in cols_to_nan:\n",
        "        n_missing = int(len(df_missing) * percentage_to_nan)\n",
        "        missing_indices = np.random.choice(df_missing.index, n_missing, replace=False)\n",
        "        df_missing.loc[missing_indices, col] = np.nan\n",
        "\n",
        "    # --- Step 2: Apply Iterative Imputation ---\n",
        "    df_E = df_missing.copy()\n",
        "\n",
        "    print(\"--- Applying Iterative Imputation (MICE) ---\")\n",
        "    print(\"Missing values before imputation:\")\n",
        "    print(df_E[cols_to_nan].isnull().sum())\n",
        "\n",
        "    # Initialize the imputer. BayesianRidge is a robust default.\n",
        "    iter_imputer = IterativeImputer(\n",
        "        estimator=BayesianRidge(),\n",
        "        max_iter=10,\n",
        "        random_state=RANDOM_STATE,\n",
        "        imputation_order='ascending'\n",
        "    )\n",
        "\n",
        "    # Fit and transform the data\n",
        "    imputed_array = iter_imputer.fit_transform(df_E)\n",
        "    df_E = pd.DataFrame(imputed_array, columns=df_E.columns)\n",
        "\n",
        "    # The imputer often produces float values for integer columns.\n",
        "    # We round and cast them back to their original type for consistency.\n",
        "    for col in ['AGE', 'LIMIT_BAL', 'SEX', 'EDUCATION', 'MARRIAGE'] + [f'PAY_{i}' for i in range(7)]:\n",
        "        if col in df_E.columns:\n",
        "            df_E[col] = np.round(df_E[col]).astype(int)\n",
        "\n",
        "    print(\"\\nMissing values after Iterative Imputation: \", df_E.isnull().sum().sum())\n",
        "\n",
        "    # --- Step 3: Model Training and Evaluation for Dataset E ---\n",
        "    print(\"\\n--- Training and Evaluating Model for: Iterative Imputation ---\")\n",
        "\n",
        "    # 1. Define Features (X) and Target (y)\n",
        "    X_E = df_E.drop('DEFAULT', axis=1)\n",
        "    y_E = df_E['DEFAULT']\n",
        "\n",
        "    # 2. Split Data into Training and Testing sets\n",
        "    X_train_E, X_test_E, y_train_E, y_test_E = train_test_split(\n",
        "        X_E, y_E, test_size=0.2, random_state=RANDOM_STATE, stratify=y_E\n",
        "    )\n",
        "\n",
        "    # 3. Standardize Features\n",
        "    scaler_E = StandardScaler()\n",
        "    X_train_scaled_E = scaler_E.fit_transform(X_train_E)\n",
        "    X_test_scaled_E = scaler_E.transform(X_test_E)\n",
        "\n",
        "    # 4. Setup for Logistic Regression and Hyperparameter Tuning\n",
        "    log_reg_E = LogisticRegression(random_state=RANDOM_STATE, solver='liblinear', max_iter=1000)\n",
        "    param_grid_lr_E = {'C': [0.001, 0.01, 0.1, 1, 10, 100]}\n",
        "\n",
        "    # 5. Use GridSearchCV to find the best 'C'\n",
        "    grid_search_lr_E = GridSearchCV(log_reg_E, param_grid_lr_E, cv=5, scoring='f1')\n",
        "    grid_search_lr_E.fit(X_train_scaled_E, y_train_E)\n",
        "\n",
        "    print(f\"\\nBest parameter (C) found: {grid_search_lr_E.best_params_}\")\n",
        "\n",
        "    # 6. Evaluate the best model on the test set\n",
        "    best_model_E = grid_search_lr_E.best_estimator_\n",
        "    y_pred_E = best_model_E.predict(X_test_scaled_E)\n",
        "\n",
        "    # 7. Print Final Performance Report\n",
        "    print(\"\\nFinal Classification Report for Iterative Imputation:\")\n",
        "    print(classification_report(y_test_E, y_pred_E))\n",
        "\n",
        "    f1_E = f1_score(y_test_E, y_pred_E, average='binary')\n",
        "    print(f\"--- F1-Score (Class 1) for Iterative Imputation Model: {f1_E:.4f} ---\")"
      ],
      "metadata": {
        "colab": {
          "base_uri": "https://localhost:8080/"
        },
        "id": "ErZ3Iq71O13E",
        "outputId": "70f54395-ff31-454f-9475-764ae1935ccb"
      },
      "execution_count": 35,
      "outputs": [
        {
          "output_type": "stream",
          "name": "stdout",
          "text": [
            "--- Applying Iterative Imputation (MICE) ---\n",
            "Missing values before imputation:\n",
            "AGE          1500\n",
            "BILL_AMT1    1500\n",
            "BILL_AMT2    1500\n",
            "dtype: int64\n",
            "\n",
            "Missing values after Iterative Imputation:  0\n",
            "\n",
            "--- Training and Evaluating Model for: Iterative Imputation ---\n",
            "\n",
            "Best parameter (C) found: {'C': 1}\n",
            "\n",
            "Final Classification Report for Iterative Imputation:\n",
            "              precision    recall  f1-score   support\n",
            "\n",
            "         0.0       0.82      0.97      0.89      4673\n",
            "         1.0       0.69      0.24      0.36      1327\n",
            "\n",
            "    accuracy                           0.81      6000\n",
            "   macro avg       0.75      0.61      0.62      6000\n",
            "weighted avg       0.79      0.81      0.77      6000\n",
            "\n",
            "--- F1-Score (Class 1) for Iterative Imputation Model: 0.3573 ---\n"
          ]
        }
      ]
    }
  ]
}